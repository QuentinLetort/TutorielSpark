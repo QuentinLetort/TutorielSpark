{
 "cells": [
  {
   "cell_type": "code",
   "execution_count": 1,
   "metadata": {},
   "outputs": [],
   "source": [
    "import findspark\n",
    "findspark.init()\n",
    "\n",
    "import pyspark\n",
    "from pyspark.sql import SparkSession\n",
    "\n",
    "spark = SparkSession.builder \\\n",
    "    .appName(\"RPA_Test\") \\\n",
    "    .getOrCreate()"
   ]
  },
  {
   "cell_type": "code",
   "execution_count": 2,
   "metadata": {},
   "outputs": [
    {
     "data": {
      "text/html": [
       "\n",
       "            <div>\n",
       "                <p><b>SparkSession - in-memory</b></p>\n",
       "                \n",
       "        <div>\n",
       "            <p><b>SparkContext</b></p>\n",
       "\n",
       "            <p><a href=\"http://pc-quentin:4040\">Spark UI</a></p>\n",
       "\n",
       "            <dl>\n",
       "              <dt>Version</dt>\n",
       "                <dd><code>v2.4.5</code></dd>\n",
       "              <dt>Master</dt>\n",
       "                <dd><code>local[*]</code></dd>\n",
       "              <dt>AppName</dt>\n",
       "                <dd><code>RPA_Test</code></dd>\n",
       "            </dl>\n",
       "        </div>\n",
       "        \n",
       "            </div>\n",
       "        "
      ],
      "text/plain": [
       "<pyspark.sql.session.SparkSession at 0x7efcfac17a90>"
      ]
     },
     "execution_count": 2,
     "metadata": {},
     "output_type": "execute_result"
    }
   ],
   "source": [
    "spark"
   ]
  },
  {
   "cell_type": "code",
   "execution_count": 3,
   "metadata": {},
   "outputs": [],
   "source": [
    "# Read the data from sql database\n",
    "\"\"\"database = \"RobotWorkForce\"\n",
    "table = \"(SELECT distinct ML.[ID],ML.[workNumber],ML.[templateID],ML.[robotID],ML.[receivedTime],ML.[startTime],ML.[endTime],isnull(MT.[resolutionTime]* 60,0) as ResolutionTimeObjective,ML.[transactionTime],ML.[status],BP.[data] FROM [RobotWorkForce].[dbo].[MasterLog] ML JOIN [BluePrism].[dbo].[BPAWorkQueueItem] BP ON BP.[keyvalue] = ML.workNumber JOIN [MasterType] MT ON ML.[templateID] = MT.[id] WHERE templateID in (2311)) as MasterLogData\"\n",
    "user = \"xxxx\"\n",
    "password = \"xxxx\"\n",
    "\n",
    "DF = spark.read.format(\"jdbc\") \\\n",
    "    .option(\"url\", f\"jdbc:sqlserver://172.27.116.14:1433;databaseName={database};\") \\\n",
    "    .option(\"dbtable\",table) \\\n",
    "    .option(\"user\",user) \\\n",
    "    .option(\"password\", password) \\\n",
    "    .option(\"driver\",\"com.microsoft.sqlserver.jdbc.SQLServerDriver\") \\\n",
    "    .load()\n",
    "\"\"\"\n",
    "# Read the date from parquet file\n",
    "DF = spark.read.parquet(\"../data/logs/MasterLogData\")"
   ]
  },
  {
   "cell_type": "code",
   "execution_count": 4,
   "metadata": {},
   "outputs": [
    {
     "name": "stdout",
     "output_type": "stream",
     "text": [
      "root\n",
      " |-- ID: integer (nullable = true)\n",
      " |-- workNumber: string (nullable = true)\n",
      " |-- templateID: integer (nullable = true)\n",
      " |-- robotID: integer (nullable = true)\n",
      " |-- receivedTime: timestamp (nullable = true)\n",
      " |-- startTime: timestamp (nullable = true)\n",
      " |-- endTime: timestamp (nullable = true)\n",
      " |-- ResolutionTimeObjective: double (nullable = true)\n",
      " |-- transactionTime: integer (nullable = true)\n",
      " |-- status: string (nullable = true)\n",
      " |-- data: string (nullable = true)\n",
      "\n"
     ]
    }
   ],
   "source": [
    "DF.createOrReplaceTempView(\"MasterLogData\")\n",
    "DF.printSchema()"
   ]
  },
  {
   "cell_type": "code",
   "execution_count": 5,
   "metadata": {},
   "outputs": [],
   "source": [
    "#Get Data\n",
    "from pyspark.sql.functions import *\n",
    "df = spark.sql(\"SELECT id, workNumber, case when status = '' THEN 'unknown' ELSE status END as status, replace(replace(replace(data,'<',' '),'>', ' '),'/',' ') as data FROM MasterLogData WHERE templateID = 2311\")"
   ]
  },
  {
   "cell_type": "code",
   "execution_count": 6,
   "metadata": {},
   "outputs": [],
   "source": [
    "#split set training and testing\n",
    "seed = 0  # set seed for reproducibility\n",
    "\n",
    "train, test = df.randomSplit([0.7,0.3],seed)"
   ]
  },
  {
   "cell_type": "code",
   "execution_count": 7,
   "metadata": {},
   "outputs": [],
   "source": [
    "from pyspark.ml.feature import Tokenizer, CountVectorizer, IDF, StringIndexer,HashingTF\n",
    "\n",
    "#String Indexer\n",
    "stringIndexer = StringIndexer(inputCol=\"status\",outputCol=\"label\").setHandleInvalid(\"skip\")\n",
    "\n",
    "#Tokenizer\n",
    "tokenizer = Tokenizer(inputCol=\"data\",outputCol=\"Token\")\n",
    "\n",
    "#Vectorizer\n",
    "vectorizer = CountVectorizer(inputCol=\"Token\", outputCol=\"rawFeatures\")\n",
    "\n",
    "#TD-IDF\n",
    "tf = HashingTF() \\\n",
    "    .setInputCol(\"Token\") \\\n",
    "    .setOutputCol(\"TFout\") \\\n",
    "    .setNumFeatures(10000)\n",
    "\n",
    "idf = IDF() \\\n",
    "    .setInputCol(\"TFout\") \\\n",
    "    .setOutputCol(\"IDFOut\")\n",
    "\n",
    "#Vector Assembler\n",
    "from pyspark.ml.feature import VectorAssembler\n",
    "FEATURES_COL = ['rawFeatures','IDFOut']\n",
    "vecAssembler = VectorAssembler(inputCols=FEATURES_COL, outputCol=\"features\")"
   ]
  },
  {
   "cell_type": "code",
   "execution_count": 8,
   "metadata": {},
   "outputs": [],
   "source": [
    "#Logistic Regression Classifier\n",
    "from pyspark.ml.classification import LogisticRegression\n",
    "lr = LogisticRegression().setLabelCol(\"label\").setFeaturesCol(\"features\")"
   ]
  },
  {
   "cell_type": "code",
   "execution_count": 9,
   "metadata": {},
   "outputs": [],
   "source": [
    "#Pipeline Creation\n",
    "from pyspark.ml import Pipeline\n",
    "stages = [stringIndexer,tokenizer,vectorizer,tf,idf,vecAssembler,lr]\n",
    "pipeline = Pipeline().setStages(stages)"
   ]
  },
  {
   "cell_type": "code",
   "execution_count": 10,
   "metadata": {},
   "outputs": [],
   "source": [
    "#Param Tuning\n",
    "from pyspark.ml.tuning import ParamGridBuilder\n",
    "params = ParamGridBuilder() \\\n",
    "    .addGrid(lr.elasticNetParam, [0.0, 0.5, 1.0]) \\\n",
    "    .addGrid(lr.regParam, [0.1, 2]) \\\n",
    "    .build()"
   ]
  },
  {
   "cell_type": "code",
   "execution_count": 11,
   "metadata": {},
   "outputs": [],
   "source": [
    "#Evaluation Model\n",
    "from pyspark.ml.evaluation import BinaryClassificationEvaluator\n",
    "evaluator = BinaryClassificationEvaluator() \\\n",
    "    .setMetricName(\"areaUnderROC\") \\\n",
    "    .setRawPredictionCol(\"prediction\") \\\n",
    "    .setLabelCol(\"label\")"
   ]
  },
  {
   "cell_type": "code",
   "execution_count": 12,
   "metadata": {},
   "outputs": [],
   "source": [
    "#Training validation split\n",
    "from pyspark.ml.tuning import TrainValidationSplit\n",
    "tvs = TrainValidationSplit() \\\n",
    "    .setTrainRatio(0.75) \\\n",
    "    .setEstimatorParamMaps(params) \\\n",
    "    .setEstimator(pipeline) \\\n",
    "    .setEvaluator(evaluator)"
   ]
  },
  {
   "cell_type": "code",
   "execution_count": 13,
   "metadata": {},
   "outputs": [],
   "source": [
    "#Fitting the models using Parameters tuning, evaluation model and training validation split\n",
    "tvsFitted = tvs.fit(train)"
   ]
  },
  {
   "cell_type": "code",
   "execution_count": 14,
   "metadata": {},
   "outputs": [],
   "source": [
    "#tranforming the models\n",
    "transformed = tvsFitted.transform(test)"
   ]
  },
  {
   "cell_type": "code",
   "execution_count": 15,
   "metadata": {},
   "outputs": [
    {
     "data": {
      "text/plain": [
       "0.7698009315239848"
      ]
     },
     "execution_count": 15,
     "metadata": {},
     "output_type": "execute_result"
    }
   ],
   "source": [
    "#Brut result\n",
    "evaluator.evaluate(transformed)"
   ]
  },
  {
   "cell_type": "code",
   "execution_count": 16,
   "metadata": {},
   "outputs": [
    {
     "name": "stdout",
     "output_type": "stream",
     "text": [
      "+-----------------+-----+----------+--------+\n",
      "|           status|label|prediction|count(1)|\n",
      "+-----------------+-----+----------+--------+\n",
      "|         Complete|  0.0|       0.0|  208841|\n",
      "|         Complete|  0.0|       1.0|    1810|\n",
      "|         Complete|  0.0|       2.0|     890|\n",
      "|Complete-Reassign|  1.0|       0.0|    7222|\n",
      "|Complete-Reassign|  1.0|       1.0|    5089|\n",
      "|Complete-Reassign|  1.0|       2.0|      92|\n",
      "|             Fail|  3.0|       0.0|    1383|\n",
      "|             Fail|  3.0|       1.0|      70|\n",
      "|             Fail|  3.0|       2.0|     155|\n",
      "|          unknown|  2.0|       0.0|      64|\n",
      "|          unknown|  2.0|       1.0|       2|\n",
      "|          unknown|  2.0|       2.0|    5233|\n",
      "+-----------------+-----+----------+--------+\n",
      "\n"
     ]
    }
   ],
   "source": [
    "#Create Result table and output table\n",
    "transformed.createOrReplaceTempView(\"Result\")\n",
    "finalDF = spark.sql(\"SELECT status,label, prediction, count(*) FROM Result GROUP BY status, label,prediction ORDER BY status,label, prediction\")\n",
    "finalDF.show()"
   ]
  },
  {
   "cell_type": "code",
   "execution_count": 17,
   "metadata": {},
   "outputs": [],
   "source": [
    "spark.stop()"
   ]
  }
 ],
 "metadata": {
  "kernelspec": {
   "display_name": "Python 3",
   "language": "python",
   "name": "python3"
  },
  "language_info": {
   "codemirror_mode": {
    "name": "ipython",
    "version": 3
   },
   "file_extension": ".py",
   "mimetype": "text/x-python",
   "name": "python",
   "nbconvert_exporter": "python",
   "pygments_lexer": "ipython3",
   "version": "3.7.2"
  }
 },
 "nbformat": 4,
 "nbformat_minor": 4
}
