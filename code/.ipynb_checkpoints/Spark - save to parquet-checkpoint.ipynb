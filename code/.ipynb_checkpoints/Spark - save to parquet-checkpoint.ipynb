{
 "cells": [
  {
   "cell_type": "code",
   "execution_count": 1,
   "metadata": {},
   "outputs": [],
   "source": [
    "import findspark\n",
    "findspark.init()"
   ]
  },
  {
   "cell_type": "code",
   "execution_count": 2,
   "metadata": {},
   "outputs": [
    {
     "data": {
      "text/html": [
       "\n",
       "            <div>\n",
       "                <p><b>SparkSession - in-memory</b></p>\n",
       "                \n",
       "        <div>\n",
       "            <p><b>SparkContext</b></p>\n",
       "\n",
       "            <p><a href=\"http://CA-L8GDX7S2.groupinfra.com:4040\">Spark UI</a></p>\n",
       "\n",
       "            <dl>\n",
       "              <dt>Version</dt>\n",
       "                <dd><code>v2.4.4</code></dd>\n",
       "              <dt>Master</dt>\n",
       "                <dd><code>local[*]</code></dd>\n",
       "              <dt>AppName</dt>\n",
       "                <dd><code>pyspark-shell</code></dd>\n",
       "            </dl>\n",
       "        </div>\n",
       "        \n",
       "            </div>\n",
       "        "
      ],
      "text/plain": [
       "<pyspark.sql.session.SparkSession at 0x18a75c82108>"
      ]
     },
     "execution_count": 2,
     "metadata": {},
     "output_type": "execute_result"
    }
   ],
   "source": [
    "import pyspark\n",
    "from pyspark.sql import SparkSession\n",
    "\n",
    "spark = SparkSession.builder.getOrCreate()\n",
    "spark"
   ]
  },
  {
   "cell_type": "code",
   "execution_count": 3,
   "metadata": {},
   "outputs": [],
   "source": [
    "database = \"RobotWorkForce\"\n",
    "table = \"(SELECT distinct ML.[ID],ML.[workNumber],ML.[templateID],ML.[robotID],ML.[receivedTime],ML.[startTime],ML.[endTime],isnull(MT.[resolutionTime]* 60,0) as 'ResolutionTimeObjective',ML.[transactionTime],ML.[status],BP.[data]FROM [RobotWorkForce].[dbo].[MasterLog] ML JOIN [BluePrism].[dbo].[BPAWorkQueueItem] BP ON BP.[keyvalue] = ML.workNumber join [MasterType] MT on ML.[templateID] = MT.[id] WHERE templateName in ('(SNCL) Network Directories and/or Personal Drive','CGI Audio/Web Conference Account','(SNCL) Create AD Account','(SNCL) Remove Application Accesses','(SNCL) EN AD Account Termination','(SNCL) Business Application Access)') as MasterLogData\")\n",
    "user = \"XXXXXX\"\n",
    "password = \"XXXXXX\""
   ]
  },
  {
   "cell_type": "code",
   "execution_count": 4,
   "metadata": {},
   "outputs": [],
   "source": [
    "DF = spark.read.format(\"jdbc\") \\\n",
    "    .option(\"url\", f\"jdbc:sqlserver://172.27.116.14:1433;databaseName={database};\") \\\n",
    "    .option(\"dbtable\",table) \\\n",
    "    .option(\"user\",user) \\\n",
    "    .option(\"password\", password) \\\n",
    "    .option(\"driver\",\"com.microsoft.sqlserver.jdbc.SQLServerDriver\") \\\n",
    "    .load()"
   ]
  },
  {
   "cell_type": "code",
   "execution_count": 9,
   "metadata": {},
   "outputs": [],
   "source": [
    "#write to parquet file\n",
    "MasterLog.write.parquet(\"..data/logs/MasterLog\")\n"
   ]
  }
 ],
 "metadata": {
  "kernelspec": {
   "display_name": "Python 3",
   "language": "python",
   "name": "python3"
  },
  "language_info": {
   "codemirror_mode": {
    "name": "ipython",
    "version": 3
   },
   "file_extension": ".py",
   "mimetype": "text/x-python",
   "name": "python",
   "nbconvert_exporter": "python",
   "pygments_lexer": "ipython3",
   "version": "3.7.2"
  }
 },
 "nbformat": 4,
 "nbformat_minor": 4
}
